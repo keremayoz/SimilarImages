{
 "cells": [
  {
   "cell_type": "code",
   "execution_count": 2,
   "metadata": {},
   "outputs": [],
   "source": [
    "from __future__ import division\n",
    "import numpy as np\n",
    "import math"
   ]
  },
  {
   "cell_type": "code",
   "execution_count": 3,
   "metadata": {},
   "outputs": [],
   "source": [
    "def signature_bit(data, planes):\n",
    "    sign = []\n",
    "    for p in planes:\n",
    "        if(len(data) != len(p)):\n",
    "            return None\n",
    "        if np.dot(data, p) >= 0:\n",
    "            sign.append(1)\n",
    "        else:\n",
    "            sign.append(0)\n",
    "\n",
    "    return sign"
   ]
  },
  {
   "cell_type": "code",
   "execution_count": 4,
   "metadata": {},
   "outputs": [],
   "source": [
    "def cosineValues(images, signatureSize):\n",
    "\n",
    "    dim = len(images[0])  # dimension of data points (# of features)\n",
    "    signatures = []\n",
    "    #reference planes\n",
    "    ref_planes = np.random.randn(signatureSize, dim)\n",
    "\n",
    "    for i in range(len(images)):\n",
    "        point = images[i]\n",
    "        sig1 = signature_bit(point, ref_planes)\n",
    "        if sig1 != None:\n",
    "            signatures.append(sig1)\n",
    "    return np.array(signatures)"
   ]
  },
  {
   "cell_type": "code",
   "execution_count": 8,
   "metadata": {},
   "outputs": [
    {
     "name": "stdout",
     "output_type": "stream",
     "text": [
      "[[0 0 0 1 0 1 0 0 1 0 0 0 1 0 0 1]\n",
      " [1 0 1 1 0 1 1 1 1 0 1 0 0 0 1 0]\n",
      " [1 1 1 0 1 1 1 1 1 0 1 1 0 1 1 0]\n",
      " [1 0 1 1 1 1 0 0 1 0 1 0 1 0 0 0]]\n"
     ]
    },
    {
     "data": {
      "text/plain": [
       "(4, 16)"
      ]
     },
     "execution_count": 8,
     "metadata": {},
     "output_type": "execute_result"
    }
   ],
   "source": [
    "T = [[3, 0, 0, 0, 0], [0, 4, 0, 0, 0], [0, 0, 0, 0, 0], [3, 5, 7, 12, 1]]\n",
    "c = np.array([[1,5,70],[20,3,7],[3000,1100,-6000], [3,11,12]])\n",
    "x = cosineValues(c, 16)\n",
    "print(x)\n",
    "x.shape"
   ]
  }
 ],
 "metadata": {
  "kernelspec": {
   "display_name": "Python 3",
   "language": "python",
   "name": "python3"
  },
  "language_info": {
   "codemirror_mode": {
    "name": "ipython",
    "version": 3
   },
   "file_extension": ".py",
   "mimetype": "text/x-python",
   "name": "python",
   "nbconvert_exporter": "python",
   "pygments_lexer": "ipython3",
   "version": "3.5.6"
  }
 },
 "nbformat": 4,
 "nbformat_minor": 2
}
