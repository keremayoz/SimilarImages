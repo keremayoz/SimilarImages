{
 "cells": [
  {
   "cell_type": "code",
   "execution_count": 1,
   "metadata": {},
   "outputs": [
    {
     "name": "stdout",
     "output_type": "stream",
     "text": [
      "Importing Jupyter notebook from locality_sensitive_hashing.ipynb\n",
      "Importing Jupyter notebook from min_hashing.ipynb\n",
      "Importing Jupyter notebook from prime.ipynb\n",
      "Importing Jupyter notebook from shingling.ipynb\n"
     ]
    },
    {
     "name": "stderr",
     "output_type": "stream",
     "text": [
      "Using TensorFlow backend.\n"
     ]
    }
   ],
   "source": [
    "import numpy as np\n",
    "import cv2 as cv\n",
    "import pickle\n",
    "import nbimporter\n",
    "import locality_sensitive_hashing as lsh\n",
    "import min_hashing as mh\n",
    "import shingling as sh\n",
    "import prime\n",
    "import os, os.path"
   ]
  },
  {
   "cell_type": "code",
   "execution_count": 27,
   "metadata": {},
   "outputs": [],
   "source": [
    "def find_sobel_outliers(folder, sobel_shingles):\n",
    "    deleted_file_names = []\n",
    "    path, dirs, files = next(os.walk(folder))  \n",
    "    for i in range(sobel_shingles.shape[0]):\n",
    "        if np.count_nonzero(sobel_shingles[i]) == 0:\n",
    "            deleted_file_names.append(files[i])\n",
    "    return np.array(deleted_file_names)"
   ]
  },
  {
   "cell_type": "code",
   "execution_count": 5,
   "metadata": {},
   "outputs": [],
   "source": [
    "def cleanup(files, folder):\n",
    "    for f in files:\n",
    "        os.remove(os.path.join(folder,f))"
   ]
  },
  {
   "cell_type": "code",
   "execution_count": 6,
   "metadata": {},
   "outputs": [],
   "source": [
    "############################################################################################################################"
   ]
  },
  {
   "cell_type": "code",
   "execution_count": 14,
   "metadata": {},
   "outputs": [],
   "source": [
    "with open('sobel_shingles.pickle', 'rb') as handle:\n",
    "        sobel_shingles = pickle.load(handle)"
   ]
  },
  {
   "cell_type": "code",
   "execution_count": null,
   "metadata": {},
   "outputs": [],
   "source": [
    "############################################################################################################################"
   ]
  },
  {
   "cell_type": "code",
   "execution_count": 28,
   "metadata": {},
   "outputs": [],
   "source": [
    "deleted = find_sobel_outliers(\"../dataset_all\", sobel_shingles.T)"
   ]
  },
  {
   "cell_type": "code",
   "execution_count": 29,
   "metadata": {},
   "outputs": [
    {
     "data": {
      "text/plain": [
       "['clock (236).JPEG',\n",
       " 'clock (575).JPEG',\n",
       " 'orange (1481).JPEG',\n",
       " 'orange (1884).JPEG',\n",
       " 'orange (2002).JPEG',\n",
       " 'orange (2155).JPEG',\n",
       " 'orange (2157).JPEG',\n",
       " 'orange (2242).JPEG',\n",
       " 'orange (2292).JPEG',\n",
       " 'orange (2698).JPEG',\n",
       " 'orange (2716).JPEG',\n",
       " 'palmtree (402).JPEG',\n",
       " 'palmtree (409).JPEG',\n",
       " 'palmtree (634).JPEG',\n",
       " 'speaker (1452).JPEG',\n",
       " 'speaker (453).JPEG',\n",
       " 'spider (288).JPEG']"
      ]
     },
     "execution_count": 29,
     "metadata": {},
     "output_type": "execute_result"
    }
   ],
   "source": [
    "deleted"
   ]
  },
  {
   "cell_type": "code",
   "execution_count": null,
   "metadata": {},
   "outputs": [],
   "source": []
  }
 ],
 "metadata": {
  "kernelspec": {
   "display_name": "Python 3",
   "language": "python",
   "name": "python3"
  },
  "language_info": {
   "codemirror_mode": {
    "name": "ipython",
    "version": 3
   },
   "file_extension": ".py",
   "mimetype": "text/x-python",
   "name": "python",
   "nbconvert_exporter": "python",
   "pygments_lexer": "ipython3",
   "version": "3.5.6"
  }
 },
 "nbformat": 4,
 "nbformat_minor": 2
}
