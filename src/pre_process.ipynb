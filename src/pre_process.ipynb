{
 "cells": [
  {
   "cell_type": "code",
   "execution_count": 1,
   "metadata": {},
   "outputs": [
    {
     "name": "stdout",
     "output_type": "stream",
     "text": [
      "Importing Jupyter notebook from locality_sensitive_hashing.ipynb\n",
      "Importing Jupyter notebook from min_hashing.ipynb\n",
      "Importing Jupyter notebook from prime.ipynb\n",
      "Importing Jupyter notebook from shingling.ipynb\n"
     ]
    },
    {
     "name": "stderr",
     "output_type": "stream",
     "text": [
      "Using TensorFlow backend.\n"
     ]
    }
   ],
   "source": [
    "import numpy as np\n",
    "import cv2 as cv\n",
    "import pickle\n",
    "import nbimporter\n",
    "import locality_sensitive_hashing as lsh\n",
    "import min_hashing as mh\n",
    "import shingling as sh\n",
    "import prime\n",
    "import os, os.path\n",
    "from os.path import join\n",
    "import random"
   ]
  },
  {
   "cell_type": "code",
   "execution_count": 2,
   "metadata": {},
   "outputs": [],
   "source": [
    "###########################################     DATA CLEANING    ###########################################################"
   ]
  },
  {
   "cell_type": "code",
   "execution_count": 3,
   "metadata": {},
   "outputs": [],
   "source": [
    "def delete_sobel_outliers(shingles):\n",
    "    deleted = []\n",
    "    for i in range(shingles.shape[0]):\n",
    "        if np.count_nonzero(shingles[i]) == 0:\n",
    "            deleted.append(i)\n",
    "    if deleted:\n",
    "        print(len(deleted))\n",
    "    shingles = np.delete(shingles, (deleted), axis=0)\n",
    "    return shingles"
   ]
  },
  {
   "cell_type": "code",
   "execution_count": 4,
   "metadata": {},
   "outputs": [],
   "source": [
    "def cleanup(folder):\n",
    "    path, dirs, files = next(os.walk(folder))\n",
    "    for f in files:\n",
    "        print(f)\n",
    "        with open(join(folder,f), 'rb') as handle:\n",
    "            shingles = pickle.load(handle)\n",
    "            \n",
    "        shingles = delete_sobel_outliers(shingles.T)\n",
    "        \n",
    "        with open(join(folder,f), 'wb') as handle:\n",
    "            pickle.dump(shingles, handle, protocol=pickle.HIGHEST_PROTOCOL)\n",
    "    return"
   ]
  },
  {
   "cell_type": "code",
   "execution_count": 5,
   "metadata": {},
   "outputs": [],
   "source": [
    "# Cleans pickles in sobel folder\n",
    "#cleanup(\"sobel/\")"
   ]
  },
  {
   "cell_type": "code",
   "execution_count": 6,
   "metadata": {},
   "outputs": [],
   "source": [
    "#########################################     GENERATING DATASET    ########################################################"
   ]
  },
  {
   "cell_type": "code",
   "execution_count": 7,
   "metadata": {},
   "outputs": [],
   "source": [
    "# Shape of each shingle = (Shingle_size x Image_count)\n",
    "def generate_seperately(mode):\n",
    "    s = sh.Shingling()\n",
    "    _, dirs, _ = next(os.walk(\"../data\"))\n",
    "    if mode == \"CNN\":\n",
    "        for i in range(18):\n",
    "            shingle = s.generate_shingles(join(\"../data\", dirs[i]), 224, 224, \"CNN\", layer=\"block5_pool\")\n",
    "            with open(dirs[i] + '_cnn.pickle', 'wb') as handle:\n",
    "                pickle.dump(shingle, handle, protocol=pickle.HIGHEST_PROTOCOL)\n",
    "                \n",
    "    elif mode == \"Sobel\":\n",
    "        for i in range(18):\n",
    "            shingle = s.generate_shingles(join(\"../data\", dirs[i]), 224, 224, \"Sobel\")\n",
    "            with open(dirs[i] + '_sobel.pickle', 'wb') as handle:\n",
    "                pickle.dump(shingle, handle, protocol=pickle.HIGHEST_PROTOCOL)"
   ]
  },
  {
   "cell_type": "code",
   "execution_count": 8,
   "metadata": {},
   "outputs": [],
   "source": [
    "def get_cached_shingles(mode, n_selections):\n",
    "    _, _, files = next(os.walk(mode))\n",
    "    randIndex = random.sample(range(len(files)), n_selections)\n",
    "    randIndex.sort()\n",
    "    result = None\n",
    "    total_pairs = []\n",
    "    label_map = []\n",
    "    for i in randIndex:\n",
    "        print(join(mode,files[i]))\n",
    "        with open(join(mode,files[i]), 'rb') as handle:\n",
    "            shingles = np.transpose(pickle.load(handle))\n",
    "        for e in range(np.shape(shingles)[0]):\n",
    "            label_map.append(files[i][0:2])\n",
    "        if result is not None:\n",
    "            result = np.concatenate((shingles,result))\n",
    "        else:\n",
    "            result = shingles\n",
    "        total_pairs.append(np.shape(shingles)[0] * (np.shape(shingles)[0]-1) / 2) \n",
    "    return result, label_map, total_pairs"
   ]
  }
 ],
 "metadata": {
  "kernelspec": {
   "display_name": "Python 3",
   "language": "python",
   "name": "python3"
  },
  "language_info": {
   "codemirror_mode": {
    "name": "ipython",
    "version": 3
   },
   "file_extension": ".py",
   "mimetype": "text/x-python",
   "name": "python",
   "nbconvert_exporter": "python",
   "pygments_lexer": "ipython3",
   "version": "3.5.6"
  }
 },
 "nbformat": 4,
 "nbformat_minor": 2
}
