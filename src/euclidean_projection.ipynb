{
 "cells": [
  {
   "cell_type": "code",
   "execution_count": 143,
   "metadata": {},
   "outputs": [],
   "source": [
    "import numpy as np\n",
    "from sklearn.preprocessing import normalize\n",
    "from itertools import combinations"
   ]
  },
  {
   "cell_type": "code",
   "execution_count": 8,
   "metadata": {},
   "outputs": [],
   "source": [
    "def create_random(count, dimension):\n",
    "    vectors = np.zeros((count,dimension))\n",
    "    for i in range(count):\n",
    "        v = (2*np.random.rand(dimension))-1\n",
    "        vectors[i] = v / (v**2).sum()**0.5\n",
    "    return vectors"
   ]
  },
  {
   "cell_type": "code",
   "execution_count": 126,
   "metadata": {},
   "outputs": [],
   "source": [
    "def find_projection(x, signature_size, bucket_count):\n",
    "    # Normalize points\n",
    "    x = normalize(x, axis=0, norm='l1')\n",
    "    # Create hash tables\n",
    "    hash_tables = []\n",
    "    for i in range(signature_size):\n",
    "        hash_tables.append({})\n",
    "    \n",
    "    # Create a random line in space\n",
    "    hash_lines = create_random(count=signature_size, dimension=np.shape(x)[1])\n",
    "    \n",
    "    # Apply each hash function\n",
    "    for j in range(signature_size):\n",
    "            # To each data point\n",
    "            for m in range(np.shape(x)[0]):\n",
    "                \n",
    "                # Project point onto random line\n",
    "                projection = np.dot(x[m], hash_lines[j]) * hash_lines[j]\n",
    "                \n",
    "                # Find its bucket according to bucket_count, we have 1/bucket_count intervals on line\n",
    "                # Determine the side of the projection, two options here\n",
    "                if projection[0] > 0:\n",
    "                    hash_val = int((np.linalg.norm(projection)+1)*(bucket_count/2))\n",
    "                else:\n",
    "                    hash_val = int((-1*np.linalg.norm(projection)+1)*(bucket_count/2))\n",
    "\n",
    "                # Put the index of item to the hash table j with generated hash value\n",
    "                if hash_val not in hash_tables[j]:\n",
    "                    hash_tables[j][hash_val] = [m]\n",
    "                else:\n",
    "                    hash_tables[j][hash_val].append(m)\n",
    "    return hash_tables"
   ]
  },
  {
   "cell_type": "code",
   "execution_count": 127,
   "metadata": {},
   "outputs": [],
   "source": [
    "def generate_candidates(hash_tables):\n",
    "        candidate_pairs = []\n",
    "        for b in range(self.B):\n",
    "            for row in hash_tables[b]:\n",
    "                bucket = hash_tables[b][row]\n",
    "                pairs = combinations(bucket, 2)\n",
    "                for elements in pairs:\n",
    "                    candidate_pairs.append(tuple(sorted(elements)))\n",
    "        return set(candidate_pairs)"
   ]
  },
  {
   "cell_type": "code",
   "execution_count": 160,
   "metadata": {},
   "outputs": [],
   "source": [
    "c = np.array([[1,5,70],[20,3,7],[3000,1100,-6000], [3,11,12]])"
   ]
  },
  {
   "cell_type": "code",
   "execution_count": 188,
   "metadata": {},
   "outputs": [
    {
     "name": "stdout",
     "output_type": "stream",
     "text": [
      "{(0, 1), (0, 3), (1, 3)}\n"
     ]
    }
   ],
   "source": [
    "x = find_projection(c, signature_size=60, bucket_count=1000)\n",
    "#print(x[0])\n",
    "candidate_pairs = []\n",
    "for x_el in x:\n",
    "    for row in x_el:\n",
    "        bucket = x_el[row]\n",
    "        pairs = combinations(bucket, 2)\n",
    "        for elements in pairs:\n",
    "            candidate_pairs.append(tuple(sorted(elements)))\n",
    "print(set(candidate_pairs))"
   ]
  },
  {
   "cell_type": "code",
   "execution_count": null,
   "metadata": {},
   "outputs": [],
   "source": []
  },
  {
   "cell_type": "code",
   "execution_count": null,
   "metadata": {},
   "outputs": [],
   "source": []
  }
 ],
 "metadata": {
  "kernelspec": {
   "display_name": "Python 3",
   "language": "python",
   "name": "python3"
  },
  "language_info": {
   "codemirror_mode": {
    "name": "ipython",
    "version": 3
   },
   "file_extension": ".py",
   "mimetype": "text/x-python",
   "name": "python",
   "nbconvert_exporter": "python",
   "pygments_lexer": "ipython3",
   "version": "3.5.6"
  }
 },
 "nbformat": 4,
 "nbformat_minor": 2
}
