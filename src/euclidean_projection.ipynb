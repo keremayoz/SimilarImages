{
 "cells": [
  {
   "cell_type": "code",
   "execution_count": 29,
   "metadata": {},
   "outputs": [],
   "source": [
    "import numpy as np"
   ]
  },
  {
   "cell_type": "code",
   "execution_count": 83,
   "metadata": {},
   "outputs": [],
   "source": [
    "def create_random(m):\n",
    "    myArray = []\n",
    "    myArray = np.random.randint(100, size=m) + 1\n",
    "    square = np.sum(myArray**2)\n",
    "    ssq = np.sqrt(square)\n",
    "    myArray = myArray/ssq\n",
    "    return myArray"
   ]
  },
  {
   "cell_type": "code",
   "execution_count": 102,
   "metadata": {},
   "outputs": [],
   "source": [
    "def find_projection(x, hash_table_size):\n",
    "    hash_table = []\n",
    "    size = np.shape(x)\n",
    "    hash_function = create_random(size[1])\n",
    "\n",
    "    for m in range(hash_table_size):\n",
    "        hash_table.append([])\n",
    "\n",
    "    for i in range(100):\n",
    "        random_weigths = create_random(size[1])\n",
    "        for m in range(size[0]):\n",
    "            inner_product = np.inner(random_weigths,x[m])\n",
    "            coordinates = inner_product * random_weigths\n",
    "            hash_num = int(np.inner(coordinates, hash_function))\n",
    "            hash_table[hash_num].append(m)\n",
    "            \n",
    "    return hash_table"
   ]
  },
  {
   "cell_type": "code",
   "execution_count": 82,
   "metadata": {},
   "outputs": [
    {
     "data": {
      "text/plain": [
       "(3, 3)"
      ]
     },
     "execution_count": 82,
     "metadata": {},
     "output_type": "execute_result"
    }
   ],
   "source": [
    "c = [[1,5,77],[2,3,7],[3,11,-6]]\n",
    "np.shape(c)"
   ]
  },
  {
   "cell_type": "code",
   "execution_count": 104,
   "metadata": {},
   "outputs": [],
   "source": [
    "x = find_projection(c, 100)\n"
   ]
  },
  {
   "cell_type": "code",
   "execution_count": null,
   "metadata": {},
   "outputs": [],
   "source": []
  },
  {
   "cell_type": "code",
   "execution_count": null,
   "metadata": {},
   "outputs": [],
   "source": []
  },
  {
   "cell_type": "code",
   "execution_count": null,
   "metadata": {},
   "outputs": [],
   "source": []
  }
 ],
 "metadata": {
  "kernelspec": {
   "display_name": "Python 3",
   "language": "python",
   "name": "python3"
  },
  "language_info": {
   "codemirror_mode": {
    "name": "ipython",
    "version": 3
   },
   "file_extension": ".py",
   "mimetype": "text/x-python",
   "name": "python",
   "nbconvert_exporter": "python",
   "pygments_lexer": "ipython3",
   "version": "3.5.6"
  }
 },
 "nbformat": 4,
 "nbformat_minor": 2
}
