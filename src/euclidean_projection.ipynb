{
 "cells": [
  {
   "cell_type": "code",
   "execution_count": 1,
   "metadata": {},
   "outputs": [],
   "source": [
    "import numpy as np\n",
    "from sklearn.preprocessing import normalize\n",
    "from itertools import combinations\n",
    "from math import copysign"
   ]
  },
  {
   "cell_type": "code",
   "execution_count": 2,
   "metadata": {},
   "outputs": [],
   "source": [
    "def create_random(count, dimension):\n",
    "    vectors = np.zeros((count,dimension))\n",
    "    for i in range(count):\n",
    "        v = (2*np.random.rand(dimension))-1\n",
    "        vectors[i] = v / (v**2).sum()**0.5\n",
    "    return vectors"
   ]
  },
  {
   "cell_type": "code",
   "execution_count": 3,
   "metadata": {},
   "outputs": [],
   "source": [
    "def find_projection(x, signature_size, bucket_count):\n",
    "    # Normalize points\n",
    "    x = normalize(x, axis=0, norm='l1')\n",
    "    # Create hash tables\n",
    "    hash_tables = []\n",
    "    for i in range(signature_size):\n",
    "        hash_tables.append({})\n",
    "    \n",
    "    # Create a random line in space\n",
    "    hash_lines = create_random(count=signature_size, dimension=np.shape(x)[1])\n",
    "    sign = lambda x : int(copysign(1, x))\n",
    "    \n",
    "    # Apply each hash function\n",
    "    for j in range(signature_size):\n",
    "            # To each data point\n",
    "            for m in range(np.shape(x)[0]):\n",
    "                \n",
    "                # Project point onto random line\n",
    "                projection = np.dot(x[m], hash_lines[j]) * hash_lines[j]\n",
    "                \n",
    "                # Find its bucket according to bucket_count, we have 1/bucket_count intervals on line\n",
    "                hash_val = int((sign(projection[0]) * np.linalg.norm(projection)+1)*(bucket_count/2))\n",
    "\n",
    "                # Put the index of item to the hash table j with generated hash value\n",
    "                if hash_val not in hash_tables[j]:\n",
    "                    hash_tables[j][hash_val] = [m]\n",
    "                else:\n",
    "                    hash_tables[j][hash_val].append(m)\n",
    "    return hash_tables"
   ]
  },
  {
   "cell_type": "code",
   "execution_count": 4,
   "metadata": {},
   "outputs": [],
   "source": [
    "def generate_candidates(hash_tables):\n",
    "    candidate_pairs = []\n",
    "    for table in hash_tables:\n",
    "        for row in table:\n",
    "            bucket = table[row]\n",
    "            pairs = combinations(bucket, 2)\n",
    "            for elements in pairs:\n",
    "                candidate_pairs.append(tuple(sorted(elements)))\n",
    "    \n",
    "    # Take most occuring pairs, not all of them\n",
    "    result = []\n",
    "    for e in candidate_pairs:\n",
    "        count = candidate_pairs.count(e)\n",
    "        if count > len(hash_tables)/20:\n",
    "            result.append(e)\n",
    "    return np.array(set(result))"
   ]
  },
  {
   "cell_type": "code",
   "execution_count": 14,
   "metadata": {},
   "outputs": [
    {
     "data": {
      "text/plain": [
       "array({(0, 1), (0, 3), (1, 3)}, dtype=object)"
      ]
     },
     "execution_count": 14,
     "metadata": {},
     "output_type": "execute_result"
    }
   ],
   "source": [
    "c = np.array([[1,5,70],[20,3,7],[3000,1100,-6000], [3,11,12]])\n",
    "x = find_projection(c, signature_size=60, bucket_count=1000)\n",
    "y = generate_candidates(x)\n",
    "y"
   ]
  },
  {
   "cell_type": "code",
   "execution_count": null,
   "metadata": {},
   "outputs": [],
   "source": []
  }
 ],
 "metadata": {
  "kernelspec": {
   "display_name": "Python 3",
   "language": "python",
   "name": "python3"
  },
  "language_info": {
   "codemirror_mode": {
    "name": "ipython",
    "version": 3
   },
   "file_extension": ".py",
   "mimetype": "text/x-python",
   "name": "python",
   "nbconvert_exporter": "python",
   "pygments_lexer": "ipython3",
   "version": "3.5.6"
  }
 },
 "nbformat": 4,
 "nbformat_minor": 2
}
