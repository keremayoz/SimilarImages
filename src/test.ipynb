{
 "cells": [
  {
   "cell_type": "code",
   "execution_count": 1,
   "metadata": {},
   "outputs": [
    {
     "name": "stdout",
     "output_type": "stream",
     "text": [
      "Importing Jupyter notebook from locality_sensitive_hashing.ipynb\n",
      "Importing Jupyter notebook from min_hashing.ipynb\n",
      "Importing Jupyter notebook from prime.ipynb\n",
      "Importing Jupyter notebook from shingling.ipynb\n"
     ]
    },
    {
     "name": "stderr",
     "output_type": "stream",
     "text": [
      "Using TensorFlow backend.\n"
     ]
    }
   ],
   "source": [
    "import nbimporter\n",
    "import locality_sensitive_hashing as lsh\n",
    "import min_hashing as mh\n",
    "import shingling as sh\n",
    "import pickle\n",
    "import numpy as np\n",
    "import sys\n",
    "import cv2 as cv\n",
    "import os, os.path"
   ]
  },
  {
   "cell_type": "code",
   "execution_count": null,
   "metadata": {},
   "outputs": [],
   "source": [
    "############################################################################################################################\n",
    "\n",
    "with open('2classSobel.pickle', 'rb') as handle:\n",
    "    sobel = np.transpose(pickle.load(handle))\n",
    "c = np.where(~sobel.any(axis=1))\n",
    "sobel = np.delete(sobel, (c), axis=0)\n",
    "sobel.shape\n",
    "\n",
    "# CNN\n",
    "with open('2classCNN.pickle', 'rb') as handle:\n",
    "    cnn = np.transpose(pickle.load(handle))\n",
    "cnn.shape\n",
    "\n",
    "############################################################################################################################"
   ]
  },
  {
   "cell_type": "code",
   "execution_count": 2,
   "metadata": {},
   "outputs": [],
   "source": [
    "############################################################################################################################\n",
    "\n",
    "with open('17classCNN.pickle', 'rb') as handle:\n",
    "    cnn = pickle.load(handle)\n",
    "\n",
    "with open('17classSobel.pickle', 'rb') as handle:\n",
    "    sobel = pickle.load(handle)\n",
    "\n",
    "############################################################################################################################"
   ]
  },
  {
   "cell_type": "code",
   "execution_count": 3,
   "metadata": {},
   "outputs": [
    {
     "data": {
      "text/plain": [
       "(25088, 23859)"
      ]
     },
     "execution_count": 3,
     "metadata": {},
     "output_type": "execute_result"
    }
   ],
   "source": [
    "cnn.shape"
   ]
  },
  {
   "cell_type": "code",
   "execution_count": 4,
   "metadata": {},
   "outputs": [
    {
     "data": {
      "text/plain": [
       "(500, 23859)"
      ]
     },
     "execution_count": 4,
     "metadata": {},
     "output_type": "execute_result"
    }
   ],
   "source": [
    "# MIN-HASHING\n",
    "min_hash = mh.MinHashing(sobel, 500, 5000)\n",
    "signature = min_hash.generate_signature()\n",
    "signature.shape"
   ]
  },
  {
   "cell_type": "code",
   "execution_count": 5,
   "metadata": {},
   "outputs": [
    {
     "data": {
      "text/plain": [
       "204"
      ]
     },
     "execution_count": 5,
     "metadata": {},
     "output_type": "execute_result"
    }
   ],
   "source": [
    "# LOCALITY SENSITIVE HASHING\n",
    "lsh_util = lsh.LocalitySensitiveHashing(25, 20, np.transpose(signature))\n",
    "candidate_pairs = lsh_util.generate_candidates()\n",
    "len(candidate_pairs)"
   ]
  },
  {
   "cell_type": "code",
   "execution_count": 6,
   "metadata": {},
   "outputs": [
    {
     "name": "stdout",
     "output_type": "stream",
     "text": [
      "101\n",
      "103\n",
      "49.509803921568626\n"
     ]
    }
   ],
   "source": [
    "# ACCURACY\n",
    "all_files = os.listdir(\"../dataset_all/\")\n",
    "true_count = 0\n",
    "false_count = 0\n",
    "for i in candidate_pairs:\n",
    "    if all_files[i[0]][0] == all_files[i[1]][0]:\n",
    "        true_count +=1\n",
    "    else:\n",
    "        false_count +=1\n",
    "print(true_count)\n",
    "print(false_count)\n",
    "print(100*true_count/(true_count+false_count))"
   ]
  },
  {
   "cell_type": "code",
   "execution_count": null,
   "metadata": {},
   "outputs": [],
   "source": []
  },
  {
   "cell_type": "code",
   "execution_count": null,
   "metadata": {},
   "outputs": [],
   "source": [
    "'''\n",
    "############################################################################################################################\n",
    "\n",
    "# CNN (all)\n",
    "s = sh.Shingling()\n",
    "cnn_shingles = s.generate_shingles(\"../dataset_all/\", 224, 224, \"CNN\")\n",
    "\n",
    "with open('cnn_shingles.pickle', 'wb') as handle:\n",
    "    pickle.dump(cnn_shingles, handle, protocol=pickle.HIGHEST_PROTOCOL)\n",
    "\n",
    "sobel_shingles = s.generate_shingles(\"../dataset_all/\", 224, 224, \"Sobel\")\n",
    "\n",
    "with open('sobel_shingles.pickle', 'wb') as handle:\n",
    "    pickle.dump(sobel_shingles, handle, protocol=pickle.HIGHEST_PROTOCOL)\n",
    "\n",
    "############################################################################################################################\n",
    "'''"
   ]
  }
 ],
 "metadata": {
  "kernelspec": {
   "display_name": "Python 3",
   "language": "python",
   "name": "python3"
  },
  "language_info": {
   "codemirror_mode": {
    "name": "ipython",
    "version": 3
   },
   "file_extension": ".py",
   "mimetype": "text/x-python",
   "name": "python",
   "nbconvert_exporter": "python",
   "pygments_lexer": "ipython3",
   "version": "3.5.6"
  }
 },
 "nbformat": 4,
 "nbformat_minor": 2
}
