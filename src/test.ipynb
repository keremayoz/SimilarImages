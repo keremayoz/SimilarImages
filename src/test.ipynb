{
 "cells": [
  {
   "cell_type": "code",
   "execution_count": 1,
   "metadata": {},
   "outputs": [
    {
     "name": "stdout",
     "output_type": "stream",
     "text": [
      "Importing Jupyter notebook from locality_sensitive_hashing.ipynb\n",
      "Importing Jupyter notebook from min_hashing.ipynb\n",
      "Importing Jupyter notebook from prime.ipynb\n",
      "Importing Jupyter notebook from shingling.ipynb\n",
      "Importing Jupyter notebook from pre_process.ipynb\n"
     ]
    },
    {
     "name": "stderr",
     "output_type": "stream",
     "text": [
      "Using TensorFlow backend.\n"
     ]
    }
   ],
   "source": [
    "import nbimporter\n",
    "import locality_sensitive_hashing as lsh\n",
    "import min_hashing as mh\n",
    "import shingling as sh\n",
    "import pre_process as pp\n",
    "import pickle\n",
    "import numpy as np\n",
    "import sys\n",
    "import cv2 as cv\n",
    "import os, os.path"
   ]
  },
  {
   "cell_type": "code",
   "execution_count": 2,
   "metadata": {},
   "outputs": [
    {
     "name": "stdout",
     "output_type": "stream",
     "text": [
      "(50176, 36)\n"
     ]
    }
   ],
   "source": [
    "# SHINGLING\n",
    "s = sh.Shingling()\n",
    "shingles = s.generate_shingles(\"../test/\", 224, 224, \"Sobel\")\n",
    "print(shingles.shape)"
   ]
  },
  {
   "cell_type": "code",
   "execution_count": 34,
   "metadata": {},
   "outputs": [
    {
     "name": "stdout",
     "output_type": "stream",
     "text": [
      "CNN\\beer_cnn.pickle\n",
      "CNN\\clock_cnn.pickle\n"
     ]
    },
    {
     "data": {
      "text/plain": [
       "(25088, 2348)"
      ]
     },
     "execution_count": 34,
     "metadata": {},
     "output_type": "execute_result"
    }
   ],
   "source": [
    "shingles, labels = pp.get_shingles(\"CNN\", 2)\n",
    "shingles.shape"
   ]
  },
  {
   "cell_type": "code",
   "execution_count": 39,
   "metadata": {},
   "outputs": [
    {
     "data": {
      "text/plain": [
       "(120, 2348)"
      ]
     },
     "execution_count": 39,
     "metadata": {},
     "output_type": "execute_result"
    }
   ],
   "source": [
    "# MIN-HASHING (input shingles as feature_count x image_count)\n",
    "min_hash = mh.MinHashing(np.transpose(shingles), 120, 100)\n",
    "signature = min_hash.generate_signature()\n",
    "signature.shape"
   ]
  },
  {
   "cell_type": "code",
   "execution_count": 40,
   "metadata": {},
   "outputs": [
    {
     "data": {
      "text/plain": [
       "1426"
      ]
     },
     "execution_count": 40,
     "metadata": {},
     "output_type": "execute_result"
    }
   ],
   "source": [
    "# LOCALITY SENSITIVE HASHING (input signature as image_count x signature_size)\n",
    "lsh_util = lsh.LocalitySensitiveHashing(20, 6, np.transpose(signature))\n",
    "candidate_pairs = lsh_util.generate_candidates()\n",
    "len(candidate_pairs)"
   ]
  },
  {
   "cell_type": "code",
   "execution_count": 41,
   "metadata": {},
   "outputs": [
    {
     "name": "stdout",
     "output_type": "stream",
     "text": [
      "937\n",
      "489\n",
      "Precision: 65.70827489481066\n"
     ]
    }
   ],
   "source": [
    "# ACCURACY\n",
    "true_count = 0\n",
    "false_count = 0\n",
    "for i in candidate_pairs:\n",
    "    if labels[i[0]] == labels[i[1]]:\n",
    "        true_count +=1\n",
    "    else:\n",
    "        false_count +=1\n",
    "print(true_count)\n",
    "print(false_count)\n",
    "print(\"Precision: \" + str(100*true_count/(true_count+false_count)))"
   ]
  }
 ],
 "metadata": {
  "kernelspec": {
   "display_name": "Python 3",
   "language": "python",
   "name": "python3"
  },
  "language_info": {
   "codemirror_mode": {
    "name": "ipython",
    "version": 3
   },
   "file_extension": ".py",
   "mimetype": "text/x-python",
   "name": "python",
   "nbconvert_exporter": "python",
   "pygments_lexer": "ipython3",
   "version": "3.5.6"
  }
 },
 "nbformat": 4,
 "nbformat_minor": 2
}
