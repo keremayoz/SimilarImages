{
 "cells": [
  {
   "cell_type": "code",
   "execution_count": 1,
   "metadata": {},
   "outputs": [
    {
     "name": "stdout",
     "output_type": "stream",
     "text": [
      "Importing Jupyter notebook from locality_sensitive_hashing.ipynb\n",
      "Importing Jupyter notebook from min_hashing.ipynb\n",
      "Importing Jupyter notebook from prime.ipynb\n",
      "Importing Jupyter notebook from shingling.ipynb\n"
     ]
    },
    {
     "name": "stderr",
     "output_type": "stream",
     "text": [
      "Using TensorFlow backend.\n"
     ]
    },
    {
     "name": "stdout",
     "output_type": "stream",
     "text": [
      "Importing Jupyter notebook from pre_process.ipynb\n",
      "Importing Jupyter notebook from euclidean_projection.ipynb\n",
      "Importing Jupyter notebook from cosine_projection.ipynb\n"
     ]
    }
   ],
   "source": [
    "import nbimporter\n",
    "import locality_sensitive_hashing as lsh\n",
    "import min_hashing as mh\n",
    "import shingling as sh\n",
    "import pre_process as pp\n",
    "import euclidean_projection as ep\n",
    "import cosine_projection as cp\n",
    "import pickle\n",
    "import numpy as np\n",
    "import sys\n",
    "import cv2 as cv\n",
    "import os, os.path"
   ]
  },
  {
   "cell_type": "code",
   "execution_count": 2,
   "metadata": {},
   "outputs": [],
   "source": [
    "############################################################################################################################\n",
    "# 1. SELECT YOUR SHINGLE TYPE\n",
    "############################################################################################################################"
   ]
  },
  {
   "cell_type": "code",
   "execution_count": 3,
   "metadata": {},
   "outputs": [
    {
     "name": "stdout",
     "output_type": "stream",
     "text": [
      "Sobel\\clock_sobel.pickle\n",
      "Sobel\\dog_sobel.pickle\n",
      "Sobel\\firetruck_sobel.pickle\n"
     ]
    },
    {
     "data": {
      "text/plain": [
       "(4124, 50176)"
      ]
     },
     "execution_count": 3,
     "metadata": {},
     "output_type": "execute_result"
    }
   ],
   "source": [
    "# BINARY SOBEL SHINGLES\n",
    "b_sobel_shingles, bs_labels, bs_tot = pp.get_cached_shingles(\"Sobel\", 3)\n",
    "b_sobel_shingles.shape"
   ]
  },
  {
   "cell_type": "code",
   "execution_count": 4,
   "metadata": {},
   "outputs": [
    {
     "name": "stdout",
     "output_type": "stream",
     "text": [
      "CNN\\dog_cnn.pickle\n",
      "CNN\\orange_cnn.pickle\n",
      "CNN\\snake_cnn.pickle\n"
     ]
    },
    {
     "data": {
      "text/plain": [
       "(4298, 25088)"
      ]
     },
     "execution_count": 4,
     "metadata": {},
     "output_type": "execute_result"
    }
   ],
   "source": [
    "# BINARY CNN FEATURES (block5_conv3)\n",
    "b_cnn_shingles, bc_labels, bc_tot = pp.get_cached_shingles(\"CNN\", 3)\n",
    "b_cnn_shingles.shape"
   ]
  },
  {
   "cell_type": "code",
   "execution_count": 5,
   "metadata": {},
   "outputs": [
    {
     "name": "stdout",
     "output_type": "stream",
     "text": [
      "CNN_2\\church_cnn_2.pickle\n",
      "CNN_2\\palmtree_cnn_2.pickle\n",
      "CNN_2\\spider_cnn_2.pickle\n"
     ]
    },
    {
     "data": {
      "text/plain": [
       "(4347, 1000)"
      ]
     },
     "execution_count": 5,
     "metadata": {},
     "output_type": "execute_result"
    }
   ],
   "source": [
    "# CNN FEATURES (prediction layer, real values)\n",
    "cnn_shingles, c_labels, c_tot = pp.get_cached_shingles(\"CNN_2\", 3)\n",
    "cnn_shingles.shape"
   ]
  },
  {
   "cell_type": "code",
   "execution_count": 6,
   "metadata": {},
   "outputs": [],
   "source": [
    "############################################################################################################################\n",
    "# 2. SELECT YOUR ALGORITHM (JACCARD-COSINE-EUCLIDEAN)\n",
    "############################################################################################################################"
   ]
  },
  {
   "cell_type": "code",
   "execution_count": 7,
   "metadata": {},
   "outputs": [],
   "source": [
    "############################################################################################################################\n",
    "# 2.1. JACCARD LSH\n",
    "############################################################################################################################"
   ]
  },
  {
   "cell_type": "code",
   "execution_count": 8,
   "metadata": {},
   "outputs": [],
   "source": [
    "# Select one to use in algorithms \n",
    "shingles = b_cnn_shingles\n",
    "labels = bc_labels\n",
    "totals = bc_tot"
   ]
  },
  {
   "cell_type": "code",
   "execution_count": 9,
   "metadata": {},
   "outputs": [
    {
     "data": {
      "text/plain": [
       "(120, 4298)"
      ]
     },
     "execution_count": 9,
     "metadata": {},
     "output_type": "execute_result"
    }
   ],
   "source": [
    "# MIN-HASHING (input shingles as feature_count x image_count)\n",
    "min_hash = mh.MinHashing(shingles.T, 250, 100)\n",
    "signature = min_hash.generate_signature()\n",
    "signature.shape"
   ]
  },
  {
   "cell_type": "code",
   "execution_count": 10,
   "metadata": {},
   "outputs": [
    {
     "name": "stdout",
     "output_type": "stream",
     "text": [
      "Number of candidate pairs found: 283583\n"
     ]
    }
   ],
   "source": [
    "# LOCALITY SENSITIVE HASHING (input signature as image_count x signature_size)\n",
    "lsh_util = lsh.LocalitySensitiveHashing(50, 5, np.transpose(signature))\n",
    "candidate_pairs = lsh_util.generate_candidates()\n",
    "print(\"Number of candidate pairs found: \" + str(len(candidate_pairs)))"
   ]
  },
  {
   "cell_type": "code",
   "execution_count": 11,
   "metadata": {},
   "outputs": [
    {
     "name": "stdout",
     "output_type": "stream",
     "text": [
      "JACCARD LSH PERFORMANCE\n",
      "TP: 126065\n",
      "FP: 157518\n",
      "TN: 5930722\n",
      "FN: 3019948\n",
      "Precision: 0.4445435727811611\n",
      "Recall: 0.040071353805594574\n",
      "NPV: 0.6626009002678012\n",
      "FPR: 0.025872501741061458\n",
      "FDR: 0.5554564272188389\n",
      "F1: 1.8346260025962242\n",
      "F2: 1.2224519113263626\n",
      "F3: 1.100093014473192\n"
     ]
    }
   ],
   "source": [
    "# PERFORMANCE\n",
    "print(\"JACCARD LSH PERFORMANCE\")\n",
    "tp = 0\n",
    "fp = 0\n",
    "\n",
    "total_correct_pairs = np.sum(totals)\n",
    "total_pairs = np.shape(shingles)[0] * (np.shape(shingles)[0]-1) / 2\n",
    "\n",
    "for i in candidate_pairs:\n",
    "    if labels[i[0]] == labels[i[1]]:\n",
    "        tp +=1\n",
    "    else:\n",
    "        fp +=1\n",
    "\n",
    "fn = int(total_correct_pairs - tp)\n",
    "tn = int(total_pairs - total_correct_pairs - fp)\n",
    "\n",
    "print(\"TP: \" + str(tp))\n",
    "print(\"FP: \" + str(fp))\n",
    "print(\"TN: \" + str(tn))\n",
    "print(\"FN: \" + str(fn))\n",
    "\n",
    "print(\"Precision: \" + str(tp/(tp+fp)))\n",
    "print(\"Recall: \" + str(tp/(tp+fn)))\n",
    "\n",
    "print(\"NPV: \" + str(tn / (tn + fn)))\n",
    "print(\"FPR: \" + str(fp / (fp + tn)))\n",
    "print(\"FDR: \" + str(fp / (tp + fp)))\n",
    "print(\"F1: \" + str((2 * tp / (tp + fp)) / (tp / (tp + fp) + tp / (tp + fn))))\n",
    "print(\"F2: \" + str((5 * tp / (tp + fp)) / (4 * tp / (tp + fp) + tp / (tp + fn))))\n",
    "print(\"F3: \" + str((10 * tp / (tp + fp)) / (9 * tp / (tp + fp) + tp / (tp + fn))))"
   ]
  },
  {
   "cell_type": "code",
   "execution_count": 12,
   "metadata": {},
   "outputs": [],
   "source": [
    "############################################################################################################################\n",
    "# 2.2. COSINE LSH \n",
    "############################################################################################################################"
   ]
  },
  {
   "cell_type": "code",
   "execution_count": 13,
   "metadata": {},
   "outputs": [],
   "source": [
    "# Select one to use in algorithms \n",
    "shingles = cnn_shingles\n",
    "labels = c_labels\n",
    "totals = c_tot"
   ]
  },
  {
   "cell_type": "code",
   "execution_count": 14,
   "metadata": {},
   "outputs": [
    {
     "data": {
      "text/plain": [
       "(4347, 1000)"
      ]
     },
     "execution_count": 14,
     "metadata": {},
     "output_type": "execute_result"
    }
   ],
   "source": [
    "# COSINE PROJECTION\n",
    "cosine_shingles = cp.cosineValues(shingles, 1000)\n",
    "cosine_shingles.shape"
   ]
  },
  {
   "cell_type": "code",
   "execution_count": 15,
   "metadata": {},
   "outputs": [
    {
     "data": {
      "text/plain": [
       "(120, 4347)"
      ]
     },
     "execution_count": 15,
     "metadata": {},
     "output_type": "execute_result"
    }
   ],
   "source": [
    "# MIN-HASHING (input shingles as feature_count x image_count)\n",
    "min_hash = mh.MinHashing(cosine_shingles.T, 120, 100)\n",
    "signature = min_hash.generate_signature()\n",
    "signature.shape"
   ]
  },
  {
   "cell_type": "code",
   "execution_count": 16,
   "metadata": {},
   "outputs": [
    {
     "name": "stdout",
     "output_type": "stream",
     "text": [
      "Number of candidate pairs found: 859331\n"
     ]
    }
   ],
   "source": [
    "# LOCALITY SENSITIVE HASHING (input signature as image_count x signature_size)\n",
    "lsh_util = lsh.LocalitySensitiveHashing(12, 10, np.transpose(signature))\n",
    "candidate_pairs = lsh_util.generate_candidates()\n",
    "print(\"Number of candidate pairs found: \" + str(len(candidate_pairs)))"
   ]
  },
  {
   "cell_type": "code",
   "execution_count": 17,
   "metadata": {},
   "outputs": [
    {
     "name": "stdout",
     "output_type": "stream",
     "text": [
      "COSINE LSH PERFORMANCE\n",
      "TP: 741874\n",
      "FP: 117457\n",
      "TN: 6161330\n",
      "FN: 2425370\n",
      "Precision: 0.8633157654035523\n",
      "Recall: 0.2342332955717968\n",
      "NPV: 0.7175434101575693\n",
      "FPR: 0.018706957251456373\n",
      "FDR: 0.1366842345964477\n",
      "F1: 1.5731702501505622\n",
      "F2: 1.170598804418025\n",
      "F3: 1.0785952724523709\n"
     ]
    }
   ],
   "source": [
    "# PERFORMANCE\n",
    "print(\"COSINE LSH PERFORMANCE\")\n",
    "tp = 0\n",
    "fp = 0\n",
    "\n",
    "total_correct_pairs = np.sum(totals)\n",
    "total_pairs = np.shape(shingles)[0] * (np.shape(shingles)[0]-1) / 2\n",
    "\n",
    "for i in candidate_pairs:\n",
    "    if labels[i[0]] == labels[i[1]]:\n",
    "        tp +=1\n",
    "    else:\n",
    "        fp +=1\n",
    "\n",
    "fn = int(total_correct_pairs - tp)\n",
    "tn = int(total_pairs - total_correct_pairs - fp)\n",
    "\n",
    "print(\"TP: \" + str(tp))\n",
    "print(\"FP: \" + str(fp))\n",
    "print(\"TN: \" + str(tn))\n",
    "print(\"FN: \" + str(fn))\n",
    "\n",
    "print(\"Precision: \" + str(tp/(tp+fp)))\n",
    "print(\"Recall: \" + str(tp/(tp+fn)))\n",
    "\n",
    "print(\"NPV: \" + str(tn / (tn + fn)))\n",
    "print(\"FPR: \" + str(fp / (fp + tn)))\n",
    "print(\"FDR: \" + str(fp / (tp + fp)))\n",
    "print(\"F1: \" + str((2 * tp / (tp + fp)) / (tp / (tp + fp) + tp / (tp + fn))))\n",
    "print(\"F2: \" + str((5 * tp / (tp + fp)) / (4 * tp / (tp + fp) + tp / (tp + fn))))\n",
    "print(\"F3: \" + str((10 * tp / (tp + fp)) / (9 * tp / (tp + fp) + tp / (tp + fn))))"
   ]
  },
  {
   "cell_type": "code",
   "execution_count": null,
   "metadata": {},
   "outputs": [],
   "source": [
    "############################################################################################################################\n",
    "# 2.3. EUCLIDEAN LSH \n",
    "############################################################################################################################"
   ]
  },
  {
   "cell_type": "code",
   "execution_count": null,
   "metadata": {},
   "outputs": [],
   "source": [
    "# Select one to use in algorithms \n",
    "shingles = cnn_shingles\n",
    "labels = c_labels\n",
    "totals = c_tot"
   ]
  },
  {
   "cell_type": "code",
   "execution_count": null,
   "metadata": {},
   "outputs": [],
   "source": [
    "# EUCLIDEAN LOCALITY SENSITIVE HASHING\n",
    "ht = ep.find_projection(shingles, signature_size=50, bucket_count=500)\n",
    "candidate_pairs = ep.generate_candidates(ht)"
   ]
  },
  {
   "cell_type": "code",
   "execution_count": null,
   "metadata": {},
   "outputs": [],
   "source": [
    "# PERFORMANCE\n",
    "tp = 0\n",
    "fp = 0\n",
    "\n",
    "total_correct_pairs = np.sum(totals)\n",
    "total_pairs = np.shape(shingles)[0] * (np.shape(shingles)[0]-1) / 2\n",
    "\n",
    "for i in candidate_pairs:\n",
    "    if labels[i[0]] == labels[i[1]]:\n",
    "        tp +=1\n",
    "    else:\n",
    "        fp +=1\n",
    "\n",
    "fn = int(total_correct_pairs - tp)\n",
    "tn = int(total_pairs - total_correct_pairs - fp)\n",
    "\n",
    "print(\"TP: \" + str(tp))\n",
    "print(\"FP: \" + str(fp))\n",
    "print(\"TN: \" + str(tn))\n",
    "print(\"FN: \" + str(fn))\n",
    "\n",
    "print(\"Precision: \" + str(tp/(tp+fp)))\n",
    "print(\"Recall: \" + str(tp/(tp+fn)))\n",
    "\n",
    "print(\"NPV: \" + str(tn / (tn + fn)))\n",
    "print(\"FPR: \" + str(fp / (fp + tn)))\n",
    "print(\"FDR: \" + str(fp / (tp + fp)))\n",
    "print(\"F1: \" + str((2 * tp / (tp + fp)) / (tp / (tp + fp) + tp / (tp + fn))))\n",
    "print(\"F2: \" + str((5 * tp / (tp + fp)) / (4 * tp / (tp + fp) + tp / (tp + fn))))\n",
    "print(\"F3: \" + str((10 * tp / (tp + fp)) / (9 * tp / (tp + fp) + tp / (tp + fn))))"
   ]
  }
 ],
 "metadata": {
  "kernelspec": {
   "display_name": "Python 3",
   "language": "python",
   "name": "python3"
  },
  "language_info": {
   "codemirror_mode": {
    "name": "ipython",
    "version": 3
   },
   "file_extension": ".py",
   "mimetype": "text/x-python",
   "name": "python",
   "nbconvert_exporter": "python",
   "pygments_lexer": "ipython3",
   "version": "3.5.6"
  }
 },
 "nbformat": 4,
 "nbformat_minor": 2
}
