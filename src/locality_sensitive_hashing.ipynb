{
 "cells": [
  {
   "cell_type": "code",
   "execution_count": 3,
   "metadata": {},
   "outputs": [],
   "source": [
    "import numpy as np\n",
    "import cv2 as cv\n",
    "import pickle\n",
    "from itertools import combinations "
   ]
  },
  {
   "cell_type": "code",
   "execution_count": 4,
   "metadata": {},
   "outputs": [],
   "source": [
    "class LocalitySensitiveHashing:\n",
    "\n",
    "    def __init__(self, B, R, signature):\n",
    "        self.B = B\n",
    "        self.R = R\n",
    "        self.signature = signature\n",
    "    \n",
    "    def generate_candidates(self):\n",
    "        hash_tables = self.__fill_hash_tables()\n",
    "        candidate_pairs = []\n",
    "        for b in range(self.B):\n",
    "            for row in hash_tables[b]:\n",
    "                bucket = hash_tables[b][row]\n",
    "                pairs = combinations(bucket, 2)\n",
    "                for elements in pairs:\n",
    "                    candidate_pairs.append(tuple(sorted(elements)))\n",
    "        return set(candidate_pairs)\n",
    "    \n",
    "    def __fill_hash_tables(self):\n",
    "        # Create hash tables\n",
    "        hash_tables = []\n",
    "        for i in range(self.B):\n",
    "            # Create a dictionary which represents a single hash table\n",
    "            hash_tables.append({})\n",
    "\n",
    "        for b in range(self.B):\n",
    "            for i in range(np.shape(self.signature)[0]):\n",
    "                key = self.__get_number(self.signature[i,b:b+self.R])\n",
    "                if key not in hash_tables[b]:\n",
    "                    hash_tables[b][key] = [i]\n",
    "                else:\n",
    "                    hash_tables[b][key].append(i)\n",
    "        return hash_tables\n",
    "    \n",
    "    @staticmethod\n",
    "    def __get_number(array):\n",
    "        number = 0\n",
    "        decimal = np.power(10,len(array)-1)\n",
    "        for i in array:\n",
    "            number += decimal * i\n",
    "            decimal /= 10\n",
    "        if number == np.inf or number == -np.inf:\n",
    "            return -1\n",
    "        else:\n",
    "            return int(number)"
   ]
  }
 ],
 "metadata": {
  "kernelspec": {
   "display_name": "Python 3",
   "language": "python",
   "name": "python3"
  },
  "language_info": {
   "codemirror_mode": {
    "name": "ipython",
    "version": 3
   },
   "file_extension": ".py",
   "mimetype": "text/x-python",
   "name": "python",
   "nbconvert_exporter": "python",
   "pygments_lexer": "ipython3",
   "version": "3.5.6"
  }
 },
 "nbformat": 4,
 "nbformat_minor": 2
}
