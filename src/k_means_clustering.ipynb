{
 "cells": [
  {
   "cell_type": "code",
   "execution_count": null,
   "metadata": {},
   "outputs": [],
   "source": [
    "from os import listdir,makedirs\n",
    "from os.path import isfile,join\n",
    "import matplotlib.pylab as plt\n",
    "import matplotlib.image as mpimg\n",
    "import cv2\n",
    "import numpy as np\n",
    "import pickle\n",
    "from PIL import Image\n",
    "import os.path, sys\n",
    "from keras.applications import vgg16\n",
    "from keras import Model\n",
    "from keras.preprocessing import image\n",
    "from keras.preprocessing.image import load_img, img_to_array"
   ]
  },
  {
   "cell_type": "code",
   "execution_count": null,
   "metadata": {},
   "outputs": [],
   "source": [
    "def k_means_clustering(K, path, sub_path):\n",
    "    \n",
    "    for item in os.listdir(path):\n",
    "        fullpath = os.path.join(path,item)\n",
    "        pathos = os.path.join(sub_path,item)\n",
    "        if os.path.isfile(fullpath):\n",
    "            img = np.array(Image.open(fullpath))\n",
    "            f, e = os.path.splitext(pathos)\n",
    "            Z = img.reshape((-1,3))\n",
    "\n",
    "            # convert to np.float32\n",
    "            Z = np.float32(Z)\n",
    "\n",
    "            # define criteria, number of clusters(K) and apply kmeans()\n",
    "            criteria = (cv2.TERM_CRITERIA_EPS + cv2.TERM_CRITERIA_MAX_ITER, 10, 1.0)\n",
    "            ret,label,center=cv2.kmeans(Z,K,None,criteria,10,cv2.KMEANS_RANDOM_CENTERS)\n",
    "            \n",
    "            # Now convert back into uint8, and make original image\n",
    "            center = np.uint8(center)\n",
    "            res = center[label.flatten()]\n",
    "            res2 = res.reshape((img.shape))\n",
    "\n",
    "            Image.fromarray(res2).save(f + 'kmeans.png', \"png\", quality=100)     \n",
    " "
   ]
  },
  {
   "cell_type": "code",
   "execution_count": null,
   "metadata": {},
   "outputs": [],
   "source": [
    "path = \"../test\"\n",
    "sub_path = \"../result\"\n",
    "k_means_clustering(3, path, sub_path)"
   ]
  },
  {
   "cell_type": "code",
   "execution_count": null,
   "metadata": {},
   "outputs": [],
   "source": [
    "###########################################################################################################################"
   ]
  },
  {
   "cell_type": "code",
   "execution_count": null,
   "metadata": {},
   "outputs": [],
   "source": [
    "# Inputs image to the VGG16 model and gets image features\n",
    "def ef(img):\n",
    "    base_model = vgg16.VGG16(weights='imagenet', include_top=True)\n",
    "    model = Model(inputs=base_model.input, outputs=base_model.get_layer('block5_pool').output)\n",
    "    img_data = image.img_to_array(img)\n",
    "    img_data = np.expand_dims(img_data, axis=0)\n",
    "    img_data = vgg16.preprocess_input(img_data)\n",
    "    img_data = np.asarray(img_data)\n",
    "    # Predict\n",
    "    vgg16_feature = model.predict(img_data)\n",
    "    return vgg16_feature[0]"
   ]
  },
  {
   "cell_type": "code",
   "execution_count": null,
   "metadata": {},
   "outputs": [],
   "source": [
    "from sklearn.cluster import KMeans\n",
    "import numpy as np\n",
    "\n",
    "files = os.listdir(\"../test\")\n",
    "images = np.zeros((len(files),7*7*512))\n",
    "for i in range(len(files)):\n",
    "    img = image.load_img(os.path.join(\"../test\",files[i]), target_size=(224, 224))\n",
    "    feature = ef(img)\n",
    "    images[i] = feature.flatten()"
   ]
  },
  {
   "cell_type": "code",
   "execution_count": null,
   "metadata": {},
   "outputs": [],
   "source": [
    "print(images.shape)\n",
    "print(images)\n",
    "kmeans = KMeans(n_clusters=4, random_state=0).fit(images)"
   ]
  },
  {
   "cell_type": "code",
   "execution_count": null,
   "metadata": {},
   "outputs": [],
   "source": [
    "labels = kmeans.labels_\n",
    "labels = np.reshape(labels, (int(len(labels)/9),9))\n",
    "print(labels)"
   ]
  },
  {
   "cell_type": "code",
   "execution_count": null,
   "metadata": {},
   "outputs": [],
   "source": []
  },
  {
   "cell_type": "code",
   "execution_count": null,
   "metadata": {},
   "outputs": [],
   "source": []
  },
  {
   "cell_type": "code",
   "execution_count": null,
   "metadata": {},
   "outputs": [],
   "source": []
  }
 ],
 "metadata": {
  "kernelspec": {
   "display_name": "Python 3",
   "language": "python",
   "name": "python3"
  },
  "language_info": {
   "codemirror_mode": {
    "name": "ipython",
    "version": 3
   },
   "file_extension": ".py",
   "mimetype": "text/x-python",
   "name": "python",
   "nbconvert_exporter": "python",
   "pygments_lexer": "ipython3",
   "version": "3.5.6"
  }
 },
 "nbformat": 4,
 "nbformat_minor": 2
}
