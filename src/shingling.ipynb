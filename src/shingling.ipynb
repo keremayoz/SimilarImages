{
 "cells": [
  {
   "cell_type": "code",
   "execution_count": 1,
   "metadata": {},
   "outputs": [
    {
     "name": "stderr",
     "output_type": "stream",
     "text": [
      "Using TensorFlow backend.\n"
     ]
    }
   ],
   "source": [
    "import numpy as np\n",
    "import tensorflow as tf\n",
    "from keras.applications import vgg16\n",
    "from keras import backend as K\n",
    "from keras.preprocessing.image import load_img, img_to_array\n",
    "from IPython.display import Image\n",
    "import cv2 as cv\n",
    "import pylab\n",
    "from keras.preprocessing import image\n",
    "import os"
   ]
  },
  {
   "cell_type": "code",
   "execution_count": 2,
   "metadata": {},
   "outputs": [],
   "source": [
    "# Get VGG16 model\n",
    "model = vgg16.VGG16(weights='imagenet', include_top=False)"
   ]
  },
  {
   "cell_type": "code",
   "execution_count": 3,
   "metadata": {},
   "outputs": [],
   "source": [
    "# Converts multi-dimensional matrix to binary 1D-matrix\n",
    "def convert_to_binary(matrix):\n",
    "    matrix = matrix.flatten()\n",
    "    matrix[matrix != 0] = 1\n",
    "    matrix = matrix.astype(int)\n",
    "    return matrix"
   ]
  },
  {
   "cell_type": "code",
   "execution_count": 4,
   "metadata": {},
   "outputs": [],
   "source": [
    "# Inputs image to the VGG16 model and gets image features\n",
    "def extract_feature(img):\n",
    "    img_data = image.img_to_array(img)\n",
    "    img_data = np.expand_dims(img_data, axis=0)\n",
    "    img_data = vgg16.preprocess_input(img_data)\n",
    "    img_data = np.asarray(img_data)\n",
    "    # Predict\n",
    "    vgg16_feature = model.predict(img_data)\n",
    "    return convert_to_binary(vgg16_feature[0])"
   ]
  },
  {
   "cell_type": "code",
   "execution_count": 5,
   "metadata": {},
   "outputs": [],
   "source": [
    "# Gets all images in given folder with given dimensions\n",
    "def get_all_features(folder, dim_x, dim_y):\n",
    "    all_files = os.listdir(folder)\n",
    "    all_features = []\n",
    "    print(len(all_files))\n",
    "    i = 0\n",
    "    for file in all_files:\n",
    "        if i%100 == 0:\n",
    "            print(i)\n",
    "        i += 1\n",
    "        img = image.load_img(os.path.join(folder,file), target_size=(dim_x, dim_y))\n",
    "        feature = extract_feature(img)\n",
    "        all_features.append(feature)\n",
    "    return np.array(all_features)"
   ]
  },
  {
   "cell_type": "code",
   "execution_count": 13,
   "metadata": {},
   "outputs": [
    {
     "name": "stdout",
     "output_type": "stream",
     "text": [
      "1552\n",
      "0\n",
      "100\n",
      "200\n",
      "300\n",
      "400\n",
      "500\n",
      "600\n",
      "700\n",
      "800\n",
      "900\n",
      "1000\n",
      "1100\n",
      "1200\n",
      "1300\n",
      "1400\n",
      "1500\n"
     ]
    }
   ],
   "source": [
    "# Test\n",
    "folder_path = \"../data/car/\"\n",
    "#car = get_all_features(folder_path, 224, 224)"
   ]
  },
  {
   "cell_type": "code",
   "execution_count": 14,
   "metadata": {},
   "outputs": [
    {
     "data": {
      "text/plain": [
       "\"\\nwith open('filename.pickle', 'rb') as handle:\\n    b = pickle.load(handle)\\n\""
      ]
     },
     "execution_count": 14,
     "metadata": {},
     "output_type": "execute_result"
    }
   ],
   "source": [
    "import pickle\n",
    "'''\n",
    "with open('sample_shingle.pickle', 'wb') as handle:\n",
    "    pickle.dump(car, handle, protocol=pickle.HIGHEST_PROTOCOL)\n",
    "\n",
    "with open('filename.pickle', 'rb') as handle:\n",
    "    b = pickle.load(handle)\n",
    "'''"
   ]
  }
 ],
 "metadata": {
  "kernelspec": {
   "display_name": "Python 3",
   "language": "python",
   "name": "python3"
  },
  "language_info": {
   "codemirror_mode": {
    "name": "ipython",
    "version": 3
   },
   "file_extension": ".py",
   "mimetype": "text/x-python",
   "name": "python",
   "nbconvert_exporter": "python",
   "pygments_lexer": "ipython3",
   "version": "3.5.6"
  }
 },
 "nbformat": 4,
 "nbformat_minor": 2
}
