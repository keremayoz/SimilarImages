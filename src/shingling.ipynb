{
 "cells": [
  {
   "cell_type": "code",
   "execution_count": 1,
   "metadata": {},
   "outputs": [
    {
     "name": "stderr",
     "output_type": "stream",
     "text": [
      "Using TensorFlow backend.\n"
     ]
    }
   ],
   "source": [
    "import numpy as np\n",
    "import tensorflow as tf\n",
    "from keras.applications import vgg16\n",
    "from keras import backend as K\n",
    "from keras.preprocessing.image import load_img, img_to_array\n",
    "from IPython.display import Image\n",
    "import cv2 as cv\n",
    "import pylab\n",
    "from keras.preprocessing import image\n",
    "import os"
   ]
  },
  {
   "cell_type": "code",
   "execution_count": 2,
   "metadata": {},
   "outputs": [],
   "source": [
    "class Shingling:\n",
    "        \n",
    "    def generate_shingles(self, folder, width, height, method):\n",
    "        if method == \"Sobel\":\n",
    "            return self.__generate_sobel_shingles(folder, width, height)\n",
    "        elif method == \"CNN\":\n",
    "            return self.__generate_cnn_shingles(folder, width, height)\n",
    "        \n",
    "    ######################################## SOBEL ########################################\n",
    "    \n",
    "    # Generates sobel features for each image in given folder\n",
    "    def __generate_sobel_shingles(self, folder, width, height):\n",
    "        scale = 1\n",
    "        delta = 0\n",
    "        ddepth = cv.CV_16S\n",
    "        path, dirs, files = next(os.walk(folder))\n",
    "        file_count = len(files)\n",
    "        file_count = file_count\n",
    "        imageArray = []\n",
    "        counter = 0\n",
    "        for i in range(file_count):\n",
    "            imageArray.append([])\n",
    "       \n",
    "        for filename in files:\n",
    "                exactPath = os.path.join(folder,filename)\n",
    "                img = cv.imread(exactPath)\n",
    "                if img is not None:\n",
    "                    src = cv.imread(exactPath, cv.IMREAD_COLOR)\n",
    "                    src = cv.resize(src,(width, height))\n",
    "                    src = cv.GaussianBlur(src, (3, 3), 0)\n",
    "                    gray = cv.cvtColor(src, cv.COLOR_BGR2GRAY)\n",
    "                    grad_x = cv.Sobel(gray, ddepth, 1, 0, ksize=3, scale=scale, delta=delta, borderType=cv.BORDER_DEFAULT)\n",
    "                    # Gradient-Y\n",
    "                    grad_y = cv.Sobel(gray, ddepth, 0, 1, ksize=3, scale=scale, delta=delta, borderType=cv.BORDER_DEFAULT)\n",
    "                    abs_grad_x = cv.convertScaleAbs(grad_x)\n",
    "                    abs_grad_y = cv.convertScaleAbs(grad_y)\n",
    "                    grad = cv.addWeighted(abs_grad_x, 0.5, abs_grad_y, 0.5, 0)\n",
    "                    for i in range (height):\n",
    "                        for m in range(width):\n",
    "                            if(grad[i][m] < 120):\n",
    "                                grad[i][m] = 0\n",
    "                                imageArray[counter].append(0)\n",
    "                            else:\n",
    "                                grad[i][m] = 255\n",
    "                                imageArray[counter].append(1)\n",
    "                    counter = counter + 1\n",
    "        return np.transpose(imageArray)\n",
    "    \n",
    "    ######################################### CNN #########################################\n",
    "    \n",
    "    # Gets all images in given folder with given dimensions\n",
    "    def __generate_cnn_shingles(self, folder, width, height, layer=None):\n",
    "        model = vgg16.VGG16(weights='imagenet', include_top=False)\n",
    "        all_files = os.listdir(folder)\n",
    "        all_features = []\n",
    "        for file in all_files:\n",
    "            img = image.load_img(os.path.join(folder,file), target_size=(width, height))\n",
    "            feature = self.__extract_feature(img, model)\n",
    "            all_features.append(feature)\n",
    "        return np.transpose(all_features)\n",
    "    \n",
    "    # Inputs image to the VGG16 model and gets image features\n",
    "    def __extract_feature(self,img, model):\n",
    "        img_data = image.img_to_array(img)\n",
    "        img_data = np.expand_dims(img_data, axis=0)\n",
    "        img_data = vgg16.preprocess_input(img_data)\n",
    "        img_data = np.asarray(img_data)\n",
    "        # Predict\n",
    "        vgg16_feature = model.predict(img_data)\n",
    "        return self.__convert_to_binary(vgg16_feature[0])\n",
    "    \n",
    "    # Converts multi-dimensional matrix to binary 1D-matrix\n",
    "    @staticmethod\n",
    "    def __convert_to_binary(matrix):\n",
    "        matrix = matrix.flatten()\n",
    "        matrix[matrix != 0] = 1\n",
    "        matrix = matrix.astype(int)\n",
    "        return matrix "
   ]
  }
 ],
 "metadata": {
  "kernelspec": {
   "display_name": "Python 3",
   "language": "python",
   "name": "python3"
  },
  "language_info": {
   "codemirror_mode": {
    "name": "ipython",
    "version": 3
   },
   "file_extension": ".py",
   "mimetype": "text/x-python",
   "name": "python",
   "nbconvert_exporter": "python",
   "pygments_lexer": "ipython3",
   "version": "3.5.6"
  }
 },
 "nbformat": 4,
 "nbformat_minor": 2
}
