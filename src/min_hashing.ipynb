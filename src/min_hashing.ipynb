{
 "cells": [
  {
   "cell_type": "code",
   "execution_count": 1,
   "metadata": {},
   "outputs": [
    {
     "name": "stdout",
     "output_type": "stream",
     "text": [
      "Importing Jupyter notebook from prime.ipynb\n"
     ]
    }
   ],
   "source": [
    "import numpy as np\n",
    "import cv2 as cv\n",
    "import pickle\n",
    "import nbimporter\n",
    "import prime"
   ]
  },
  {
   "cell_type": "code",
   "execution_count": 2,
   "metadata": {},
   "outputs": [],
   "source": [
    "class MinHashing:\n",
    "    \n",
    "    def __init__(self, shingles, signature_size, k):\n",
    "        self.shingles = shingles\n",
    "        self.signature_size = signature_size\n",
    "        self.k = k\n",
    "        self.N = np.shape(self.shingles)[0]\n",
    "        \n",
    "        # Universal Hashing parameters ((ax+b)%p)%N\n",
    "        self.a = np.random.randint(self.k, size=self.signature_size)\n",
    "        self.b = np.random.randint(self.k, size=self.signature_size)\n",
    "    \n",
    "    # Generates signature matrix from shingle matrix C\n",
    "    def generate_signature(self):\n",
    "        signature = np.ones((np.shape(self.shingles)[1],self.signature_size)) * np.inf\n",
    "        C = np.transpose(self.shingles)\n",
    "        hash_values = self.__get_all_row_hash()\n",
    "        for i in range(np.shape(self.shingles)[1]):\n",
    "            ind = np.argwhere(C[i] > 0)\n",
    "            if ind.size == 0:\n",
    "                continue\n",
    "            min_hash_values = np.amin(hash_values[ind], axis=0)            \n",
    "            signature[i] = min_hash_values\n",
    "        return np.transpose(signature)\n",
    "    \n",
    "    # Creates signature_size hash functions and returns the values\n",
    "    def __universal_hash(self,x):\n",
    "        c = self.a*x+self.b\n",
    "        return [(item % self.p)%self.N for item in c]\n",
    "\n",
    "    # Returns al row-hash values of function h(i)\n",
    "    def __get_row_hash(self,i):\n",
    "        result = np.ones((self.N), dtype=int)\n",
    "        for k in range(self.N):\n",
    "            result[k] = ((self.a[i]*k+self.b[i])%self.p)%self.N\n",
    "        return result\n",
    "\n",
    "    # Returns al row-hash values of function h(i)\n",
    "    def __get_all_row_hash(self):\n",
    "        p = prime.next_prime(self.N)\n",
    "        result = np.ones((self.N, self.signature_size), dtype=int)\n",
    "        for k in range(self.N):\n",
    "            result[k] = ((self.a*(k)+self.b)%p)%self.N\n",
    "        return result"
   ]
  }
 ],
 "metadata": {
  "kernelspec": {
   "display_name": "Python 3",
   "language": "python",
   "name": "python3"
  },
  "language_info": {
   "codemirror_mode": {
    "name": "ipython",
    "version": 3
   },
   "file_extension": ".py",
   "mimetype": "text/x-python",
   "name": "python",
   "nbconvert_exporter": "python",
   "pygments_lexer": "ipython3",
   "version": "3.5.6"
  }
 },
 "nbformat": 4,
 "nbformat_minor": 2
}
