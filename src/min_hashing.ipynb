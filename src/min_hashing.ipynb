{
 "cells": [
  {
   "cell_type": "code",
   "execution_count": 1,
   "metadata": {},
   "outputs": [
    {
     "name": "stdout",
     "output_type": "stream",
     "text": [
      "importing Jupyter notebook from shingling.ipynb\n"
     ]
    },
    {
     "name": "stderr",
     "output_type": "stream",
     "text": [
      "Using TensorFlow backend.\n"
     ]
    },
    {
     "name": "stdout",
     "output_type": "stream",
     "text": [
      "importing Jupyter notebook from prime.ipynb\n"
     ]
    }
   ],
   "source": [
    "import numpy as np\n",
    "import cv2 as cv\n",
    "import pickle\n",
    "import import_ipynb\n",
    "import shingling\n",
    "import prime"
   ]
  },
  {
   "cell_type": "code",
   "execution_count": 2,
   "metadata": {},
   "outputs": [],
   "source": [
    "################### HYPERPARAMETERS ###################\n",
    "\n",
    "# Target signature size\n",
    "signature_size = 100\n",
    "\n",
    "# Shingle matrix\n",
    "with open('sample_shingle.pickle', 'rb') as handle:\n",
    "    C = np.transpose(pickle.load(handle))\n",
    "    \n",
    "# Number of shingles\n",
    "N = len(C)\n",
    "\n",
    "# Upper limit of a,b parameters\n",
    "k = 20"
   ]
  },
  {
   "cell_type": "code",
   "execution_count": 10,
   "metadata": {},
   "outputs": [],
   "source": [
    "# Prime number used in universal hashing\n",
    "p = prime.next_prime(N)"
   ]
  },
  {
   "cell_type": "code",
   "execution_count": 4,
   "metadata": {},
   "outputs": [],
   "source": [
    "# Universal Hashing parameters ((ax+b)%p)%N\n",
    "a = np.random.randint(k, size=signature_size)\n",
    "b = np.random.randint(k, size=signature_size)"
   ]
  },
  {
   "cell_type": "code",
   "execution_count": 19,
   "metadata": {},
   "outputs": [],
   "source": [
    "# Creates signature_size hash functions and returns the values\n",
    "def universal_hash(x):\n",
    "    c = a*x+b\n",
    "    return [(item % p)%N for item in c]"
   ]
  },
  {
   "cell_type": "code",
   "execution_count": 46,
   "metadata": {},
   "outputs": [],
   "source": [
    "# Generates signature matrix from shingle matrix C\n",
    "def generate_signature(C):\n",
    "    signature = np.matrix(np.ones((signature_size,np.shape(C)[1])) * np.inf)\n",
    "    for i in range(N):\n",
    "        row_hash_value = universal_hash(i)\n",
    "        print(row_hash_value)\n",
    "        print(np.shape(row_hash_value))\n",
    "        break"
   ]
  },
  {
   "cell_type": "code",
   "execution_count": 47,
   "metadata": {},
   "outputs": [
    {
     "name": "stdout",
     "output_type": "stream",
     "text": [
      "[11, 9, 16, 12, 7, 18, 3, 6, 15, 16, 16, 9, 19, 7, 18, 15, 18, 5, 8, 8, 11, 19, 1, 9, 2, 10, 1, 6, 19, 8, 1, 1, 6, 18, 8, 18, 9, 14, 5, 11, 3, 10, 10, 13, 2, 1, 0, 10, 17, 7, 12, 8, 1, 5, 15, 4, 12, 6, 1, 19, 8, 14, 6, 6, 6, 12, 8, 17, 3, 14, 0, 1, 5, 2, 9, 10, 15, 12, 0, 15, 2, 11, 19, 4, 6, 1, 1, 9, 14, 3, 9, 7, 3, 13, 12, 1, 9, 5, 17, 16]\n",
      "(100,)\n"
     ]
    }
   ],
   "source": [
    "generate_signature(C)"
   ]
  },
  {
   "cell_type": "code",
   "execution_count": null,
   "metadata": {},
   "outputs": [],
   "source": []
  }
 ],
 "metadata": {
  "kernelspec": {
   "display_name": "Python 3",
   "language": "python",
   "name": "python3"
  },
  "language_info": {
   "codemirror_mode": {
    "name": "ipython",
    "version": 3
   },
   "file_extension": ".py",
   "mimetype": "text/x-python",
   "name": "python",
   "nbconvert_exporter": "python",
   "pygments_lexer": "ipython3",
   "version": "3.5.6"
  }
 },
 "nbformat": 4,
 "nbformat_minor": 2
}
